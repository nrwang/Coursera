{
 "cells": [
  {
   "cell_type": "code",
   "execution_count": 4,
   "metadata": {},
   "outputs": [],
   "source": [
    "%matplotlib inline\n",
    "import pandas as pd\n",
    "import numpy as np\n",
    "import seaborn as sns\n",
    "import matplotlib.pyplot as plt\n",
    "from scipy import stats"
   ]
  },
  {
   "cell_type": "code",
   "execution_count": 5,
   "metadata": {},
   "outputs": [],
   "source": [
    "confirmedurl = \"https://raw.githubusercontent.com/CSSEGISandData/COVID-19/master/csse_covid_19_data/csse_covid_19_time_series/time_series_19-covid-Confirmed.csv\"\n",
    "confirmeddf = pd.read_csv(confirmedurl)"
   ]
  },
  {
   "cell_type": "code",
   "execution_count": 6,
   "metadata": {},
   "outputs": [],
   "source": [
    "deathsurl = \"https://raw.githubusercontent.com/CSSEGISandData/COVID-19/master/csse_covid_19_data/csse_covid_19_time_series/time_series_19-covid-Deaths.csv\"\n",
    "deathsdf = pd.read_csv(deathsurl)"
   ]
  },
  {
   "cell_type": "code",
   "execution_count": 7,
   "metadata": {},
   "outputs": [],
   "source": [
    "recoveredurl = \"https://raw.githubusercontent.com/CSSEGISandData/COVID-19/master/csse_covid_19_data/csse_covid_19_time_series/time_series_19-covid-Recovered.csv\"\n",
    "recovereddf = pd.read_csv(recoveredurl)"
   ]
  },
  {
   "cell_type": "code",
   "execution_count": 37,
   "metadata": {},
   "outputs": [
    {
     "name": "stdout",
     "output_type": "stream",
     "text": [
      "(76, 34)\n",
      "(76, 34)\n",
      "(76, 34)\n"
     ]
    }
   ],
   "source": [
    "print(deathsdf.shape)\n",
    "print(confirmeddf.shape)\n",
    "print(recovereddf.shape)"
   ]
  },
  {
   "cell_type": "code",
   "execution_count": 59,
   "metadata": {},
   "outputs": [],
   "source": [
    "usconfirmed = confirmeddf[confirmeddf[\"Country/Region\"] == \"US\"]\n",
    "usrecovered = recovereddf[recovereddf[\"Country/Region\"] == \"US\"]\n",
    "usdeaths = deathsdf[deathsdf[\"Country/Region\"] == \"US\"]\n",
    "usc = usconfirmed[\"2/20/20\"].sum()\n",
    "usr = usrecovered[\"2/20/20\"].sum()\n",
    "usd = usdeaths[\"2/20/20\"].sum()"
   ]
  },
  {
   "cell_type": "code",
   "execution_count": 41,
   "metadata": {},
   "outputs": [
    {
     "name": "stdout",
     "output_type": "stream",
     "text": [
      "94\n",
      "18\n",
      "1\n"
     ]
    }
   ],
   "source": [
    "japanconfirmed = confirmeddf[confirmeddf[\"Country/Region\"] == \"Japan\"]\n",
    "japanrecovered = recovereddf[recovereddf[\"Country/Region\"] == \"Japan\"]\n",
    "japandeaths = deathsdf[deathsdf[\"Country/Region\"] == \"Japan\"]\n",
    "print(japanconfirmed[\"2/20/20\"].sum())\n",
    "print(japanrecovered[\"2/20/20\"].sum())\n",
    "print(japandeaths[\"2/20/20\"].sum())"
   ]
  },
  {
   "cell_type": "code",
   "execution_count": 57,
   "metadata": {},
   "outputs": [],
   "source": [
    "taiwanconfirmed = confirmeddf[confirmeddf[\"Country/Region\"] == \"Taiwan\"]\n",
    "taiwanrecovered = recovereddf[recovereddf[\"Country/Region\"] == \"Taiwan\"]\n",
    "taiwandeaths = deathsdf[deathsdf[\"Country/Region\"] == \"Taiwan\"]\n",
    "tc = taiwanconfirmed[\"2/20/20\"].sum()\n",
    "tr = taiwanrecovered[\"2/20/20\"].sum()\n",
    "td = taiwandeaths[\"2/20/20\"].sum()"
   ]
  },
  {
   "cell_type": "code",
   "execution_count": 58,
   "metadata": {},
   "outputs": [],
   "source": [
    "germanyconfirmed = confirmeddf[confirmeddf[\"Country/Region\"] == \"Germany\"]\n",
    "germanyrecovered = recovereddf[recovereddf[\"Country/Region\"] == \"Germany\"]\n",
    "germanydeaths = deathsdf[deathsdf[\"Country/Region\"] == \"Germany\"]\n",
    "gc = germanyconfirmed[\"2/20/20\"].sum()\n",
    "gr = germanyrecovered[\"2/20/20\"].sum()\n",
    "gd = germanydeaths[\"2/20/20\"].sum()"
   ]
  },
  {
   "cell_type": "code",
   "execution_count": 65,
   "metadata": {},
   "outputs": [],
   "source": [
    "corona_list = [[\"US\", usc, usr, usd],[\"Taiwan\", tc, tr, td],[\"Germany\", gc, gr, gd]]\n",
    "corona_df = pd.DataFrame(corona_list, columns = ['Country', 'Confirmed', 'Recovered', 'Deaths'])"
   ]
  },
  {
   "cell_type": "code",
   "execution_count": 66,
   "metadata": {},
   "outputs": [
    {
     "data": {
      "text/html": [
       "<div>\n",
       "<style scoped>\n",
       "    .dataframe tbody tr th:only-of-type {\n",
       "        vertical-align: middle;\n",
       "    }\n",
       "\n",
       "    .dataframe tbody tr th {\n",
       "        vertical-align: top;\n",
       "    }\n",
       "\n",
       "    .dataframe thead th {\n",
       "        text-align: right;\n",
       "    }\n",
       "</style>\n",
       "<table border=\"1\" class=\"dataframe\">\n",
       "  <thead>\n",
       "    <tr style=\"text-align: right;\">\n",
       "      <th></th>\n",
       "      <th>Country</th>\n",
       "      <th>Confirmed</th>\n",
       "      <th>Recovered</th>\n",
       "      <th>Deaths</th>\n",
       "    </tr>\n",
       "  </thead>\n",
       "  <tbody>\n",
       "    <tr>\n",
       "      <th>0</th>\n",
       "      <td>US</td>\n",
       "      <td>15</td>\n",
       "      <td>3</td>\n",
       "      <td>0</td>\n",
       "    </tr>\n",
       "    <tr>\n",
       "      <th>1</th>\n",
       "      <td>Taiwan</td>\n",
       "      <td>24</td>\n",
       "      <td>2</td>\n",
       "      <td>1</td>\n",
       "    </tr>\n",
       "    <tr>\n",
       "      <th>2</th>\n",
       "      <td>Germany</td>\n",
       "      <td>16</td>\n",
       "      <td>12</td>\n",
       "      <td>0</td>\n",
       "    </tr>\n",
       "  </tbody>\n",
       "</table>\n",
       "</div>"
      ],
      "text/plain": [
       "   Country  Confirmed  Recovered  Deaths\n",
       "0       US         15          3       0\n",
       "1   Taiwan         24          2       1\n",
       "2  Germany         16         12       0"
      ]
     },
     "execution_count": 66,
     "metadata": {},
     "output_type": "execute_result"
    }
   ],
   "source": [
    "corona_df"
   ]
  },
  {
   "cell_type": "code",
   "execution_count": 67,
   "metadata": {},
   "outputs": [
    {
     "name": "stdout",
     "output_type": "stream",
     "text": [
      "0.2\n",
      "0.08333333333333333\n",
      "0.75\n",
      "0.35\n"
     ]
    }
   ],
   "source": [
    "US_Recovery_Rate = 3 / 15\n",
    "Taiwan_Recovery_Rate = 2 / 24\n",
    "Germany_Recovery_Rate = 12 / 16\n",
    "\n",
    "# Defined as total of Taiwan and Germany Recoveries divided by Confirmed Cases\n",
    "OutsideUS_Recovery_Rate = (2 + 12) / (24 + 16)\n",
    "\n",
    "print(US_Recovery_Rate)\n",
    "print(Taiwan_Recovery_Rate)\n",
    "print(Germany_Recovery_Rate)\n",
    "print(OutsideUS_Recovery_Rate)"
   ]
  },
  {
   "cell_type": "code",
   "execution_count": null,
   "metadata": {},
   "outputs": [],
   "source": []
  }
 ],
 "metadata": {
  "kernelspec": {
   "display_name": "Python 3",
   "language": "python",
   "name": "python3"
  },
  "language_info": {
   "codemirror_mode": {
    "name": "ipython",
    "version": 3
   },
   "file_extension": ".py",
   "mimetype": "text/x-python",
   "name": "python",
   "nbconvert_exporter": "python",
   "pygments_lexer": "ipython3",
   "version": "3.7.6"
  }
 },
 "nbformat": 4,
 "nbformat_minor": 4
}
